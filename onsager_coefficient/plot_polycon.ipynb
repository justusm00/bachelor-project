{
 "cells": [
  {
   "cell_type": "code",
   "execution_count": 1,
   "metadata": {},
   "outputs": [],
   "source": [
    "import h5py\n",
    "import numpy as np\n",
    "import matplotlib.pyplot as plt"
   ]
  },
  {
   "cell_type": "code",
   "execution_count": 7,
   "metadata": {},
   "outputs": [
    {
     "name": "stdout",
     "output_type": "stream",
     "text": [
      "[0. 1. 1. 0. 0. 0. 0. 0. 0. 0. 0. 0. 0. 0. 0. 0. 0. 0. 0. 0. 0. 0. 0. 0.\n",
      " 0. 0. 0. 0. 0. 0. 0. 0. 0. 0. 0. 0. 0. 0. 0. 0. 0. 0. 0. 0. 0. 0. 0. 0.\n",
      " 0. 0. 0. 0. 0. 0. 0. 0. 0. 0. 0. 0. 0. 0. 0. 0. 0. 0. 0. 0. 0. 0. 0. 0.\n",
      " 0. 0. 0. 0. 0. 2. 2. 0.]\n"
     ]
    }
   ],
   "source": [
    "area51_len=3\n",
    "##length of area51 in x direction. Need to exclude this for density profile calculations\n",
    "area51_len = area51_len\n",
    "with h5py.File('coord.h5', 'r') as f:\n",
    "    ##number of beads per polymer\n",
    "    N=int(f['parameter/reference_Nbeads'][()]) \n",
    "    ##number of polymers\n",
    "    n_polym=int(f['parameter/n_polymers'][()]) \n",
    "    n_poly_type=int(f['parameter/n_poly_type'][()]) \n",
    "    ##box dimensions \n",
    "    lxyz=np.array(f['parameter/lxyz'])\n",
    "    ##box discretization\n",
    "    nxyz=np.array(f['parameter/nxyz'])\n",
    "    ##true lx (without area51)\n",
    "    lx_true=(nxyz[0]-2*area51_len)/nxyz[0]*lxyz[0]\n",
    "    ##conversion rate for each reaction\n",
    "    rates=np.array(f['polyconversion/rate'])\n",
    "    #polyconversion array\n",
    "    polycon=np.array(f['polyconversion/array']).mean(axis=(1,2))\n",
    "    ##number of area 51 cells\n",
    "    area51=sum(np.array(f['area51']).flatten())\n",
    "\n",
    "print(polycon)"
   ]
  },
  {
   "cell_type": "code",
   "execution_count": null,
   "metadata": {},
   "outputs": [],
   "source": []
  }
 ],
 "metadata": {
  "kernelspec": {
   "display_name": "venv",
   "language": "python",
   "name": "python3"
  },
  "language_info": {
   "codemirror_mode": {
    "name": "ipython",
    "version": 3
   },
   "file_extension": ".py",
   "mimetype": "text/x-python",
   "name": "python",
   "nbconvert_exporter": "python",
   "pygments_lexer": "ipython3",
   "version": "3.10.10"
  },
  "orig_nbformat": 4
 },
 "nbformat": 4,
 "nbformat_minor": 2
}

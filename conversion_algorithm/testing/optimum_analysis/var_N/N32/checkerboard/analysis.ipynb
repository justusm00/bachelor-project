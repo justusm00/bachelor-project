{
 "cells": [
  {
   "attachments": {},
   "cell_type": "markdown",
   "metadata": {},
   "source": [
    "#### Script to analyse optimum of loss function for $\\lambda=1/8R_e$ to $\\lambda=9/8R_e$ and $\\sqrt{\\bar N}=100$ (exponential SA cooling). All values are averaged over 1000 random initial configurations. Target densities alternate between 0.1 and 0.9."
   ]
  },
  {
   "cell_type": "code",
   "execution_count": 9,
   "metadata": {},
   "outputs": [],
   "source": [
    "import numpy as np \n",
    "import matplotlib.pyplot as plt\n",
    "import h5py"
   ]
  },
  {
   "cell_type": "code",
   "execution_count": 10,
   "metadata": {},
   "outputs": [
    {
     "name": "stdout",
     "output_type": "stream",
     "text": [
      "0.14537132187187496\n",
      "0.143558721509375\n",
      "1.0126261946570874\n"
     ]
    }
   ],
   "source": [
    "\n",
    "\n",
    "coordfile='no_sa/coord.h5'\n",
    "\n",
    "with h5py.File(coordfile, 'r') as f:\n",
    "    umbrella_field = np.array(f[\"umbrella_field\"])\n",
    "ntarget=len(umbrella_field[umbrella_field>-1])\n",
    "opt_sa_exp=np.loadtxt(f\"sa_exp/opt.csv\")/ntarget\n",
    "# opt_sa_lin=np.loadtxt(f\"sa/exp_cooling/opt.csv\")/ntarget\n",
    "# opt_sa_lin=opt_sa_lin.reshape(n_sim,int(len(opt_sa_lin)/n_sim)).mean(axis=1)\n",
    "opt_no_sa=np.loadtxt(\"no_sa/opt.csv\")/ntarget\n",
    "print(opt_no_sa.mean())\n",
    "print(opt_sa_exp.mean())\n",
    "print((opt_no_sa.mean()/opt_sa_exp.mean()))"
   ]
  },
  {
   "cell_type": "code",
   "execution_count": null,
   "metadata": {},
   "outputs": [],
   "source": []
  },
  {
   "cell_type": "code",
   "execution_count": null,
   "metadata": {},
   "outputs": [],
   "source": []
  },
  {
   "cell_type": "code",
   "execution_count": null,
   "metadata": {},
   "outputs": [],
   "source": []
  }
 ],
 "metadata": {
  "kernelspec": {
   "display_name": "venv",
   "language": "python",
   "name": "python3"
  },
  "language_info": {
   "codemirror_mode": {
    "name": "ipython",
    "version": 3
   },
   "file_extension": ".py",
   "mimetype": "text/x-python",
   "name": "python",
   "nbconvert_exporter": "python",
   "pygments_lexer": "ipython3",
   "version": "3.10.10"
  },
  "orig_nbformat": 4
 },
 "nbformat": 4,
 "nbformat_minor": 2
}

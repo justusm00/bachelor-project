{
 "cells": [
  {
   "cell_type": "code",
   "execution_count": 1,
   "metadata": {},
   "outputs": [],
   "source": [
    "import numpy as np \n",
    "import matplotlib.pyplot as plt\n",
    "import h5py\n",
    "from copy import deepcopy\n",
    "params = {'axes.labelsize': 'x-large',\n",
    "         'axes.titlesize':'x-large'}\n",
    "plt.rcParams.update(params)"
   ]
  },
  {
   "cell_type": "code",
   "execution_count": 2,
   "metadata": {},
   "outputs": [
    {
     "ename": "FileNotFoundError",
     "evalue": "[Errno 2] Unable to open file (unable to open file: name = 'lam4/kN30/chiN50/coord.h5', errno = 2, error message = 'No such file or directory', flags = 0, o_flags = 0)",
     "output_type": "error",
     "traceback": [
      "\u001b[0;31m---------------------------------------------------------------------------\u001b[0m",
      "\u001b[0;31mFileNotFoundError\u001b[0m                         Traceback (most recent call last)",
      "Cell \u001b[0;32mIn[2], line 96\u001b[0m\n\u001b[1;32m     94\u001b[0m fig,axs\u001b[39m=\u001b[39mplt\u001b[39m.\u001b[39msubplots(\u001b[39m2\u001b[39m,\u001b[39m3\u001b[39m,figsize\u001b[39m=\u001b[39m(\u001b[39m15\u001b[39m,\u001b[39m10\u001b[39m),dpi\u001b[39m=\u001b[39m\u001b[39m100\u001b[39m)\n\u001b[1;32m     95\u001b[0m \u001b[39m#plot_density(axs[0,0],30,0)\u001b[39;00m\n\u001b[0;32m---> 96\u001b[0m plot_density(axs[\u001b[39m0\u001b[39;49m,\u001b[39m1\u001b[39;49m],\u001b[39m4\u001b[39;49m,\u001b[39m30\u001b[39;49m,\u001b[39m50\u001b[39;49m)\n\u001b[1;32m     97\u001b[0m \u001b[39m# plot_density(axs[0,2],30,100)\u001b[39;00m\n\u001b[1;32m     98\u001b[0m \u001b[39m# plot_density(axs[1,0],100,100)\u001b[39;00m\n\u001b[1;32m     99\u001b[0m \u001b[39m# plot_density(axs[1,1],1000,1000)\u001b[39;00m\n\u001b[1;32m    100\u001b[0m plt\u001b[39m.\u001b[39mtight_layout()\n",
      "Cell \u001b[0;32mIn[2], line 10\u001b[0m, in \u001b[0;36mplot_density\u001b[0;34m(axis, lam, kN, chiN)\u001b[0m\n\u001b[1;32m      8\u001b[0m \u001b[39mdef\u001b[39;00m \u001b[39mplot_density\u001b[39m(axis,lam,kN,chiN):\n\u001b[1;32m      9\u001b[0m     \u001b[39mdir\u001b[39m\u001b[39m=\u001b[39m\u001b[39mf\u001b[39m\u001b[39m\"\u001b[39m\u001b[39mlam\u001b[39m\u001b[39m{\u001b[39;00mlam\u001b[39m}\u001b[39;00m\u001b[39m/kN\u001b[39m\u001b[39m{\u001b[39;00mkN\u001b[39m}\u001b[39;00m\u001b[39m/chiN\u001b[39m\u001b[39m{\u001b[39;00mchiN\u001b[39m}\u001b[39;00m\u001b[39m\"\u001b[39m\n\u001b[0;32m---> 10\u001b[0m     \u001b[39mwith\u001b[39;00m h5py\u001b[39m.\u001b[39;49mFile(\u001b[39mf\u001b[39;49m\u001b[39m'\u001b[39;49m\u001b[39m{\u001b[39;49;00m\u001b[39mdir\u001b[39;49m\u001b[39m}\u001b[39;49;00m\u001b[39m/coord.h5\u001b[39;49m\u001b[39m'\u001b[39;49m, \u001b[39m'\u001b[39;49m\u001b[39mr\u001b[39;49m\u001b[39m'\u001b[39;49m) \u001b[39mas\u001b[39;00m f:\n\u001b[1;32m     11\u001b[0m         \u001b[39m##number of beads per polymer\u001b[39;00m\n\u001b[1;32m     12\u001b[0m         N\u001b[39m=\u001b[39m\u001b[39mint\u001b[39m(f[\u001b[39m'\u001b[39m\u001b[39mparameter/reference_Nbeads\u001b[39m\u001b[39m'\u001b[39m][()]) \n\u001b[1;32m     13\u001b[0m         \u001b[39m#kappa\u001b[39;00m\n",
      "File \u001b[0;32m~/BA/venv/lib/python3.10/site-packages/h5py/_hl/files.py:567\u001b[0m, in \u001b[0;36mFile.__init__\u001b[0;34m(self, name, mode, driver, libver, userblock_size, swmr, rdcc_nslots, rdcc_nbytes, rdcc_w0, track_order, fs_strategy, fs_persist, fs_threshold, fs_page_size, page_buf_size, min_meta_keep, min_raw_keep, locking, alignment_threshold, alignment_interval, meta_block_size, **kwds)\u001b[0m\n\u001b[1;32m    558\u001b[0m     fapl \u001b[39m=\u001b[39m make_fapl(driver, libver, rdcc_nslots, rdcc_nbytes, rdcc_w0,\n\u001b[1;32m    559\u001b[0m                      locking, page_buf_size, min_meta_keep, min_raw_keep,\n\u001b[1;32m    560\u001b[0m                      alignment_threshold\u001b[39m=\u001b[39malignment_threshold,\n\u001b[1;32m    561\u001b[0m                      alignment_interval\u001b[39m=\u001b[39malignment_interval,\n\u001b[1;32m    562\u001b[0m                      meta_block_size\u001b[39m=\u001b[39mmeta_block_size,\n\u001b[1;32m    563\u001b[0m                      \u001b[39m*\u001b[39m\u001b[39m*\u001b[39mkwds)\n\u001b[1;32m    564\u001b[0m     fcpl \u001b[39m=\u001b[39m make_fcpl(track_order\u001b[39m=\u001b[39mtrack_order, fs_strategy\u001b[39m=\u001b[39mfs_strategy,\n\u001b[1;32m    565\u001b[0m                      fs_persist\u001b[39m=\u001b[39mfs_persist, fs_threshold\u001b[39m=\u001b[39mfs_threshold,\n\u001b[1;32m    566\u001b[0m                      fs_page_size\u001b[39m=\u001b[39mfs_page_size)\n\u001b[0;32m--> 567\u001b[0m     fid \u001b[39m=\u001b[39m make_fid(name, mode, userblock_size, fapl, fcpl, swmr\u001b[39m=\u001b[39;49mswmr)\n\u001b[1;32m    569\u001b[0m \u001b[39mif\u001b[39;00m \u001b[39misinstance\u001b[39m(libver, \u001b[39mtuple\u001b[39m):\n\u001b[1;32m    570\u001b[0m     \u001b[39mself\u001b[39m\u001b[39m.\u001b[39m_libver \u001b[39m=\u001b[39m libver\n",
      "File \u001b[0;32m~/BA/venv/lib/python3.10/site-packages/h5py/_hl/files.py:231\u001b[0m, in \u001b[0;36mmake_fid\u001b[0;34m(name, mode, userblock_size, fapl, fcpl, swmr)\u001b[0m\n\u001b[1;32m    229\u001b[0m     \u001b[39mif\u001b[39;00m swmr \u001b[39mand\u001b[39;00m swmr_support:\n\u001b[1;32m    230\u001b[0m         flags \u001b[39m|\u001b[39m\u001b[39m=\u001b[39m h5f\u001b[39m.\u001b[39mACC_SWMR_READ\n\u001b[0;32m--> 231\u001b[0m     fid \u001b[39m=\u001b[39m h5f\u001b[39m.\u001b[39;49mopen(name, flags, fapl\u001b[39m=\u001b[39;49mfapl)\n\u001b[1;32m    232\u001b[0m \u001b[39melif\u001b[39;00m mode \u001b[39m==\u001b[39m \u001b[39m'\u001b[39m\u001b[39mr+\u001b[39m\u001b[39m'\u001b[39m:\n\u001b[1;32m    233\u001b[0m     fid \u001b[39m=\u001b[39m h5f\u001b[39m.\u001b[39mopen(name, h5f\u001b[39m.\u001b[39mACC_RDWR, fapl\u001b[39m=\u001b[39mfapl)\n",
      "File \u001b[0;32mh5py/_objects.pyx:54\u001b[0m, in \u001b[0;36mh5py._objects.with_phil.wrapper\u001b[0;34m()\u001b[0m\n",
      "File \u001b[0;32mh5py/_objects.pyx:55\u001b[0m, in \u001b[0;36mh5py._objects.with_phil.wrapper\u001b[0;34m()\u001b[0m\n",
      "File \u001b[0;32mh5py/h5f.pyx:106\u001b[0m, in \u001b[0;36mh5py.h5f.open\u001b[0;34m()\u001b[0m\n",
      "\u001b[0;31mFileNotFoundError\u001b[0m: [Errno 2] Unable to open file (unable to open file: name = 'lam4/kN30/chiN50/coord.h5', errno = 2, error message = 'No such file or directory', flags = 0, o_flags = 0)"
     ]
    },
    {
     "data": {
      "image/png": "[encoded data removed]",
      "text/plain": [
       "<Figure size 1500x1000 with 6 Axes>"
      ]
     },
     "metadata": {},
     "output_type": "display_data"
    }
   ],
   "source": [
    "offset=1 #to account for area51\n",
    "\n",
    "\n",
    "y=0\n",
    "\n",
    "\n",
    "\n",
    "def plot_density(axis,lam,kN,chiN):\n",
    "    dir=f\"lam{lam}/kN{kN}/chiN{chiN}\"\n",
    "    with h5py.File(f'{dir}/coord.h5', 'r') as f:\n",
    "        ##number of beads per polymer\n",
    "        N=int(f['parameter/reference_Nbeads'][()]) \n",
    "        #kappa\n",
    "        kappa=30/N\n",
    "        ##number of polymers\n",
    "        n_polym=int(f['parameter/n_polymers'][()]) \n",
    "        n_poly_type=int(f['parameter/n_poly_type'][()]) \n",
    "        n_types=int(f['parameter/n_types'][()]) \n",
    "        ##box dimensions \n",
    "        lxyz=np.array(f['parameter/lxyz'])\n",
    "        ##box discretization\n",
    "        nxyz=np.array(f['parameter/nxyz'])\n",
    "        #discretization\n",
    "        dxyz=lxyz/nxyz\n",
    "        #adjust lengths and discretizations\n",
    "        lxyz=lxyz-2*offset*dxyz\n",
    "        nxyz=nxyz-2*offset\n",
    "        #umbrella field\n",
    "        umb_field=np.array(f[\"umbrella_field\"])\n",
    "        #area51\n",
    "        area51=np.array(f[\"area51\"])\n",
    "    with h5py.File(f'{dir}/coord_ana.h5', 'r') as f:\n",
    "        #only load every other frame, the others are not optimized\n",
    "        phi=np.array(f['density_field'])[50:]\n",
    "    t=len(phi)\n",
    "    #average phi over time\n",
    "    phi=phi.mean(axis=0)\n",
    "    #box volume\n",
    "    V=np.prod(lxyz)\n",
    "    Nbar=n_polym/V\n",
    "    #cell volume\n",
    "    V_cell=np.prod(dxyz)\n",
    "    #number of accessible cells \n",
    "    n_cells=int(len(area51[area51==0]))\n",
    "    #field scaling type\n",
    "    scale=n_cells/(N*n_polym)\n",
    "    #reshape density and umbrella field\n",
    "    phi=phi*scale\n",
    "    phi=phi[:,area51==0].reshape(phi.shape[0],nxyz[0],nxyz[1],nxyz[2])\n",
    "    phi_tot=np.sum(phi,axis=0)\n",
    "    print(phi_tot.shape)\n",
    "    #phi_tot[phi_tot==0]=1\n",
    "    umb_field=umb_field[umb_field>-1].reshape(2,nxyz[0],nxyz[2])\n",
    "    composition=deepcopy(phi)\n",
    "    for i in range(2):\n",
    "        print(i)\n",
    "        composition[i]/=phi_tot\n",
    "    #get phi and composition at y value where umbrella field is defined averaged over z\n",
    "    phi_mean=phi[:,:,y,:].mean(axis=2)\n",
    "    composition_mean=composition[:,:,y,:].mean(axis=2)\n",
    "    #volume\n",
    "    V=V_cell*n_cells\n",
    "    #average bead density\n",
    "    rho0=N*Nbar\n",
    "    #beads per cell\n",
    "    rhoc=rho0*V_cell \n",
    "    print(rhoc)\n",
    "    #natural density fluctuations\n",
    "    var_phi=1/(rho0*kappa*V_cell) \n",
    "    l_plot=np.arange(0,lxyz[0],dxyz[0])\n",
    "\n",
    "\n",
    "    axis.grid()\n",
    "    axis.set_title(f\"kN={kN}, chiN={chiN}\")\n",
    "    axis.set_xlabel(\"$x/R_e$\")\n",
    "    axis.set_ylabel(r\"$\\phi$\")\n",
    "    axis.plot(l_plot,phi_mean[0],lw=1,label=\"density\")\n",
    "    axis.plot(l_plot,phi_mean[0]+phi_mean[1],label=\"total density\",lw=1)\n",
    "    #plt.plot(l_plot,composition_mean[0])\n",
    "\n",
    "    axis.plot(l_plot,umb_field[0,:,0],lw=1,label=\"target\")\n",
    "    L=0.0\n",
    "    for x in range(nxyz[0]):\n",
    "        for z in range(nxyz[2]):\n",
    "            for j in range(2):\n",
    "                L+=(composition[j,x,0,z]-umb_field[j,x,z])**2\n",
    "    L=L/len(umb_field.flatten())\n",
    "    axis.legend(loc=\"lower right\")\n",
    "        #plt.savefig(f\"amplitude_{dphi}_Nbar{Nbar}.pdf\")\n",
    "    n_cells_target=len(umb_field[umb_field>-1])\n",
    "    opt=np.loadtxt(f\"{dir}/opt.csv\")/(n_cells_target*var_phi)\n",
    "    return opt.mean()\n",
    "\n",
    "fig,axs=plt.subplots(2,3,figsize=(15,10),dpi=100)\n",
    "#plot_density(axs[0,0],30,0)\n",
    "plot_density(axs[0,1],4,30,50)\n",
    "# plot_density(axs[0,2],30,100)\n",
    "# plot_density(axs[1,0],100,100)\n",
    "# plot_density(axs[1,1],1000,1000)\n",
    "plt.tight_layout()\n",
    "plt.show()\n",
    "\n",
    "kN=30\n",
    "chiN=20"
   ]
  },
  {
   "cell_type": "code",
   "execution_count": null,
   "metadata": {},
   "outputs": [],
   "source": []
  },
  {
   "cell_type": "code",
   "execution_count": null,
   "metadata": {},
   "outputs": [],
   "source": []
  },
  {
   "cell_type": "code",
   "execution_count": null,
   "metadata": {},
   "outputs": [],
   "source": []
  }
 ],
 "metadata": {
  "kernelspec": {
   "display_name": "Python 3",
   "language": "python",
   "name": "python3"
  },
  "language_info": {
   "codemirror_mode": {
    "name": "ipython",
    "version": 3
   },
   "file_extension": ".py",
   "mimetype": "text/x-python",
   "name": "python",
   "nbconvert_exporter": "python",
   "pygments_lexer": "ipython3",
   "version": "3.10.10"
  },
  "orig_nbformat": 4,
  "vscode": {
   "interpreter": {
    "hash": "b0fa6594d8f4cbf19f97940f81e996739fb7646882a419484c72d19e05852a7e"
   }
  }
 },
 "nbformat": 4,
 "nbformat_minor": 2
}
